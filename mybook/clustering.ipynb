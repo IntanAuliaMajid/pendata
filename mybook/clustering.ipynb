{
 "cells": [
  {
   "cell_type": "markdown",
   "id": "ddd9c46f",
   "metadata": {},
   "source": [
    "# **clustering**"
   ]
  },
  {
   "cell_type": "markdown",
   "id": "8baaac74",
   "metadata": {},
   "source": [
    "**Apa itu K-Means Clustering**  \n",
    "Cluster adalah pengelompokkan data berdasarkan kesamaan karakteristik, dengan tujuan agar dalam kelompok sifatnya mirip2 tapi dengan kelompok lain beda.\n",
    "Teknik pengelompokan (Clustering) berbasis partisi. Membagi data menjadi K kelompok berdasarkan jarak. Setiap kelompok direpresentasikan oleh centroid (rata-rata dari titik dalam kluster).  \n",
    "\n",
    "**Mengapa Perlu Clustering?**  \n",
    "Data sering kali tidak memiliki label → Unsupervised Learning\n",
    "Clustering membantu mengelompokkan data berdasarkan kesamaan karakteristik.  \n",
    "\n",
    "**langkah-langkah menentukan algoritma k-means**\n",
    "1. tentukan jumlah kluster K\n",
    "2. pilih k centroid awal secara acak\n",
    "3. hitung jarak setiap data ke tiap centroid\n",
    "4. kelompokkan data berdasarkan centroid terdekat\n",
    "5. Hitung ulang centroid dari rata-rata anggota cluster\n",
    "6. hitung ulang centroid 3-5 hingga konvergen (tidak ada perubahan signifikan)\n",
    "\n",
    "**Tujuan dan Fungsi**  \n",
    "* Meminimalkan variasi dalam cluster (within-cluster variance)\n",
    "* Mengelompokkan objek sehingga :\n",
    "    * Objek dalam kluster sehomogen mungkin\n",
    "    * Objek antar kluster seheterogen mungkin\n",
    "\n",
    "\n",
    "**Evaluasi Hasil**\n",
    "* Inertia : Jumlah kuadrat jarak antara titik dan centroid\n",
    "    * Nilai Inertia :\n",
    "        * Sangat kecil (Mendekati 0) : Klaster sangat kompak dan semua titik dekat dengan centroidnya -> Sangat baik.\n",
    "        * Kecil hingga sedang : Klaster cukup baik dan dapat diterima dalam banyak kasus.\n",
    "        * Besar : Klaster tidak rapat, mungkin distribusi datanya tidak cocok dengan K-Means atau k terlalu kecil.\n",
    "* Silhouette Score : Ukuran seberapa mirip suatu objek dengan klusternya dibanding kluster lain  \n",
    "* Elbow Method : Untuk memilih nilai K optimal\n"
   ]
  },
  {
   "cell_type": "code",
   "execution_count": 37,
   "id": "4a237b98",
   "metadata": {},
   "outputs": [],
   "source": [
    "import pandas as pd\n",
    "from sklearn.cluster import KMeans\n",
    "from sklearn.metrics import silhouette_score"
   ]
  },
  {
   "cell_type": "code",
   "execution_count": 38,
   "id": "32da6bb8",
   "metadata": {},
   "outputs": [
    {
     "name": "stdout",
     "output_type": "stream",
     "text": [
      "   id        class  petal_length  petal_width  sepal_length  sepal_width\n",
      "0   1  Iris-setosa           1.4          0.2           5.1          3.5\n",
      "1   2  Iris-setosa           1.4          0.2           4.9          3.0\n",
      "2   3  Iris-setosa           1.3          0.2           4.7          3.2\n",
      "3   4  Iris-setosa           1.5          0.2           4.6          3.1\n",
      "4   5  Iris-setosa           1.4          0.2           5.0          3.6\n"
     ]
    }
   ],
   "source": [
    "# Membaca file CSV\n",
    "df = pd.read_csv(\"hasil_gabungan.csv\")\n",
    "print(df.head())  # Menampilkan 5 baris pertama dari DataFrame\n",
    "\n",
    "silhouette_scores = []\n",
    "sse_scores = []"
   ]
  },
  {
   "cell_type": "markdown",
   "id": "fc703520",
   "metadata": {},
   "source": [
    "#### Menghapus kolom class dan id"
   ]
  },
  {
   "cell_type": "code",
   "execution_count": 39,
   "id": "00c7d95a",
   "metadata": {},
   "outputs": [
    {
     "name": "stdout",
     "output_type": "stream",
     "text": [
      "[[1.4 0.2 5.1 3.5]\n",
      " [1.4 0.2 4.9 3. ]\n",
      " [1.3 0.2 4.7 3.2]\n",
      " [1.5 0.2 4.6 3.1]\n",
      " [1.4 0.2 5.  3.6]\n",
      " [1.7 0.4 5.4 3.9]\n",
      " [1.4 0.3 4.6 3.4]\n",
      " [1.5 0.2 5.  3.4]\n",
      " [1.4 0.2 4.4 2.9]\n",
      " [1.5 0.1 4.9 3.1]\n",
      " [1.5 0.2 5.4 3.7]\n",
      " [1.6 0.2 4.8 3.4]\n",
      " [1.4 0.1 4.8 3. ]\n",
      " [1.1 0.1 4.3 3. ]\n",
      " [1.2 0.2 5.8 4. ]\n",
      " [1.5 0.4 5.7 4.4]\n",
      " [1.3 0.4 5.4 3.9]\n",
      " [1.4 0.3 5.1 3.5]\n",
      " [1.7 0.3 5.7 3.8]\n",
      " [1.5 0.3 5.1 3.8]\n",
      " [1.7 0.2 5.4 3.4]\n",
      " [1.5 0.4 5.1 3.7]\n",
      " [1.  0.2 4.6 3.6]\n",
      " [1.7 0.5 5.1 3.3]\n",
      " [1.9 0.2 4.8 3.4]\n",
      " [1.6 0.2 5.  3. ]\n",
      " [1.6 0.4 5.  3.4]\n",
      " [1.5 0.2 5.2 3.5]\n",
      " [1.4 0.2 5.2 3.4]\n",
      " [1.6 0.2 4.7 3.2]\n",
      " [1.6 0.2 4.8 3.1]\n",
      " [1.5 0.4 5.4 3.4]\n",
      " [1.5 0.1 5.2 4.1]\n",
      " [1.4 0.2 5.5 4.2]\n",
      " [1.5 0.1 4.9 3.1]\n",
      " [1.2 0.2 5.  3.2]\n",
      " [1.3 0.2 5.5 3.5]\n",
      " [1.5 0.1 4.9 3.1]\n",
      " [1.3 0.2 4.4 3. ]\n",
      " [1.5 0.2 5.1 3.4]\n",
      " [1.3 0.3 5.  3.5]\n",
      " [1.3 0.3 4.5 2.3]\n",
      " [1.3 0.2 4.4 3.2]\n",
      " [1.6 0.6 5.  3.5]\n",
      " [1.9 0.4 5.1 3.8]\n",
      " [1.4 0.3 4.8 3. ]\n",
      " [1.6 0.2 5.1 3.8]\n",
      " [1.4 0.2 4.6 3.2]\n",
      " [1.5 0.2 5.3 3.7]\n",
      " [1.4 0.2 5.  3.3]\n",
      " [4.7 1.4 7.  3.2]\n",
      " [4.5 1.5 6.4 3.2]\n",
      " [4.9 1.5 6.9 3.1]\n",
      " [4.  1.3 5.5 2.3]\n",
      " [4.6 1.5 6.5 2.8]\n",
      " [4.5 1.3 5.7 2.8]\n",
      " [4.7 1.6 6.3 3.3]\n",
      " [3.3 1.  4.9 2.4]\n",
      " [4.6 1.3 6.6 2.9]\n",
      " [3.9 1.4 5.2 2.7]\n",
      " [3.5 1.  5.  2. ]\n",
      " [4.2 1.5 5.9 3. ]\n",
      " [4.  1.  6.  2.2]\n",
      " [4.7 1.4 6.1 2.9]\n",
      " [3.6 1.3 5.6 2.9]\n",
      " [4.4 1.4 6.7 3.1]\n",
      " [4.5 1.5 5.6 3. ]\n",
      " [4.1 1.  5.8 2.7]\n",
      " [4.5 1.5 6.2 2.2]\n",
      " [3.9 1.1 5.6 2.5]\n",
      " [4.8 1.8 5.9 3.2]\n",
      " [4.  1.3 6.1 2.8]\n",
      " [4.9 1.5 6.3 2.5]\n",
      " [4.7 1.2 6.1 2.8]\n",
      " [4.3 1.3 6.4 2.9]\n",
      " [4.4 1.4 6.6 3. ]\n",
      " [4.8 1.4 6.8 2.8]\n",
      " [5.  1.7 6.7 3. ]\n",
      " [4.5 1.5 6.  2.9]\n",
      " [3.5 1.  5.7 2.6]\n",
      " [3.8 1.1 5.5 2.4]\n",
      " [3.7 1.  5.5 2.4]\n",
      " [3.9 1.2 5.8 2.7]\n",
      " [5.1 1.6 6.  2.7]\n",
      " [4.5 1.5 5.4 3. ]\n",
      " [4.5 1.6 6.  3.4]\n",
      " [4.7 1.5 6.7 3.1]\n",
      " [4.4 1.3 6.3 2.3]\n",
      " [4.1 1.3 5.6 3. ]\n",
      " [4.  1.3 5.5 2.5]\n",
      " [4.4 1.2 5.5 2.6]\n",
      " [4.6 1.4 6.1 3. ]\n",
      " [4.  1.2 5.8 2.6]\n",
      " [3.3 1.  5.  2.3]\n",
      " [4.2 1.3 5.6 2.7]\n",
      " [4.2 1.2 5.7 3. ]\n",
      " [4.2 1.3 5.7 2.9]\n",
      " [4.3 1.3 6.2 2.9]\n",
      " [3.  1.1 5.1 2.5]\n",
      " [4.1 1.3 5.7 2.8]\n",
      " [6.  2.5 6.3 3.3]\n",
      " [5.1 1.9 5.8 2.7]\n",
      " [5.9 2.1 7.1 3. ]\n",
      " [5.6 1.8 6.3 2.9]\n",
      " [5.8 2.2 6.5 3. ]\n",
      " [6.6 2.1 7.6 3. ]\n",
      " [4.5 1.7 4.9 2.5]\n",
      " [6.3 1.8 7.3 2.9]\n",
      " [5.8 1.8 6.7 2.5]\n",
      " [6.1 2.5 7.2 3.6]\n",
      " [5.1 2.  6.5 3.2]\n",
      " [5.3 1.9 6.4 2.7]\n",
      " [5.5 2.1 6.8 3. ]\n",
      " [5.  2.  5.7 2.5]\n",
      " [5.1 2.4 5.8 2.8]\n",
      " [5.3 2.3 6.4 3.2]\n",
      " [5.5 1.8 6.5 3. ]\n",
      " [6.7 2.2 7.7 3.8]\n",
      " [6.9 2.3 7.7 2.6]\n",
      " [5.  1.5 6.  2.2]\n",
      " [5.7 2.3 6.9 3.2]\n",
      " [4.9 2.  5.6 2.8]\n",
      " [6.7 2.  7.7 2.8]\n",
      " [4.9 1.8 6.3 2.7]\n",
      " [5.7 2.1 6.7 3.3]\n",
      " [6.  1.8 7.2 3.2]\n",
      " [4.8 1.8 6.2 2.8]\n",
      " [4.9 1.8 6.1 3. ]\n",
      " [5.6 2.1 6.4 2.8]\n",
      " [5.8 1.6 7.2 3. ]\n",
      " [6.1 1.9 7.4 2.8]\n",
      " [6.4 2.  7.9 3.8]\n",
      " [5.6 2.2 6.4 2.8]\n",
      " [5.1 1.5 6.3 2.8]\n",
      " [5.6 1.4 6.1 2.6]\n",
      " [6.1 2.3 7.7 3. ]\n",
      " [5.6 2.4 6.3 3.4]\n",
      " [5.5 1.8 6.4 3.1]\n",
      " [4.8 1.8 6.  3. ]\n",
      " [5.4 2.1 6.9 3.1]\n",
      " [5.6 2.4 6.7 3.1]\n",
      " [5.1 2.3 6.9 3.1]\n",
      " [5.1 1.9 5.8 2.7]\n",
      " [5.9 2.3 6.8 3.2]\n",
      " [5.7 2.5 6.7 3.3]\n",
      " [5.2 2.3 6.7 3. ]\n",
      " [5.  1.9 6.3 2.5]\n",
      " [5.2 2.  6.5 3. ]\n",
      " [5.4 2.3 6.2 3.4]\n",
      " [5.1 1.8 5.9 3. ]]\n"
     ]
    }
   ],
   "source": [
    "X = df.drop(columns=[\"class\", \"id\"]).values\n",
    "print(X)"
   ]
  },
  {
   "cell_type": "markdown",
   "id": "6d5e6a82",
   "metadata": {},
   "source": [
    "### **Klastering K-Means dengan 2 Klaster**\n",
    "#### Pengelompokan 2 cluster (termasuk cluster 0 & 1)"
   ]
  },
  {
   "cell_type": "code",
   "execution_count": 40,
   "id": "b205ad74",
   "metadata": {},
   "outputs": [
    {
     "name": "stdout",
     "output_type": "stream",
     "text": [
      "Centroid cluster: [[1.56226415 0.28867925 5.00566038 3.36037736]\n",
      " [4.95876289 1.69587629 6.30103093 2.88659794]]\n",
      "Hasil label cluster: [0 0 0 0 0 0 0 0 0 0 0 0 0 0 0 0 0 0 0 0 0 0 0 0 0 0 0 0 0 0 0 0 0 0 0 0 0\n",
      " 0 0 0 0 0 0 0 0 0 0 0 0 0 1 1 1 1 1 1 1 0 1 1 1 1 1 1 1 1 1 1 1 1 1 1 1 1\n",
      " 1 1 1 1 1 1 1 1 1 1 1 1 1 1 1 1 1 1 1 0 1 1 1 1 0 1 1 1 1 1 1 1 1 1 1 1 1\n",
      " 1 1 1 1 1 1 1 1 1 1 1 1 1 1 1 1 1 1 1 1 1 1 1 1 1 1 1 1 1 1 1 1 1 1 1 1 1\n",
      " 1 1]\n"
     ]
    }
   ],
   "source": [
    "kmeans2 = KMeans(n_clusters=2, random_state=0, n_init=\"auto\", max_iter=250, tol=0.0002, verbose=0,copy_x=True,algorithm=\"lloyd\").fit(X)\n",
    "print(\"Centroid cluster:\", kmeans2.cluster_centers_) #Menampilkan 2 centroid\n",
    "print(\"Hasil label cluster:\", kmeans2.labels_)"
   ]
  },
  {
   "cell_type": "markdown",
   "id": "27ff1d65",
   "metadata": {},
   "source": [
    "#### Menghitung Silhouette"
   ]
  },
  {
   "cell_type": "code",
   "execution_count": 41,
   "id": "87fe5358",
   "metadata": {},
   "outputs": [
    {
     "name": "stdout",
     "output_type": "stream",
     "text": [
      "Silhouette Score: 0.6808136202936812\n"
     ]
    }
   ],
   "source": [
    "score2 = silhouette_score(X, kmeans2.labels_)\n",
    "print(\"Silhouette Score:\", score2)\n",
    "silhouette_scores.append(score2)"
   ]
  },
  {
   "cell_type": "markdown",
   "id": "cd8c31d8",
   "metadata": {},
   "source": [
    "#### Menghitung SSE (Sum of Squared Errors)"
   ]
  },
  {
   "cell_type": "code",
   "execution_count": 42,
   "id": "6dbbbf72",
   "metadata": {},
   "outputs": [
    {
     "name": "stdout",
     "output_type": "stream",
     "text": [
      "SSE (Inertia): 152.36870647733906\n"
     ]
    }
   ],
   "source": [
    "sse2 = kmeans2.inertia_\n",
    "print(\"SSE (Inertia):\", sse2)\n",
    "sse_scores.append(sse2)"
   ]
  },
  {
   "cell_type": "markdown",
   "id": "a4cc8345",
   "metadata": {},
   "source": [
    "### **Klastering K-Means dengan 3 Klaster**"
   ]
  },
  {
   "cell_type": "code",
   "execution_count": 43,
   "id": "841e72d5",
   "metadata": {},
   "outputs": [
    {
     "name": "stdout",
     "output_type": "stream",
     "text": [
      "Centroid cluster: [[4.38852459 1.43442623 5.88360656 2.74098361]\n",
      " [1.464      0.244      5.006      3.418     ]\n",
      " [5.71538462 2.05384615 6.85384615 3.07692308]]\n",
      "Hasil label cluster: [1 1 1 1 1 1 1 1 1 1 1 1 1 1 1 1 1 1 1 1 1 1 1 1 1 1 1 1 1 1 1 1 1 1 1 1 1\n",
      " 1 1 1 1 1 1 1 1 1 1 1 1 1 2 0 2 0 0 0 0 0 0 0 0 0 0 0 0 0 0 0 0 0 0 0 0 0\n",
      " 0 0 0 2 0 0 0 0 0 0 0 0 0 0 0 0 0 0 0 0 0 0 0 0 0 0 2 0 2 2 2 2 0 2 2 2 2\n",
      " 2 2 0 0 2 2 2 2 0 2 0 2 0 2 2 0 0 2 2 2 2 2 0 2 2 2 2 0 2 2 2 0 2 2 2 0 2\n",
      " 2 0]\n"
     ]
    }
   ],
   "source": [
    "kmeans3 = KMeans(n_clusters=3, random_state=0, n_init=\"auto\", max_iter=250, tol=0.0002, verbose=0,copy_x=True,algorithm=\"lloyd\").fit(X)\n",
    "print(\"Centroid cluster:\", kmeans3.cluster_centers_)\n",
    "print(\"Hasil label cluster:\", kmeans3.labels_)"
   ]
  },
  {
   "cell_type": "markdown",
   "id": "8a94b105",
   "metadata": {},
   "source": [
    "#### Menghitung Silhouette"
   ]
  },
  {
   "cell_type": "code",
   "execution_count": 44,
   "id": "fde1a94c",
   "metadata": {},
   "outputs": [
    {
     "name": "stdout",
     "output_type": "stream",
     "text": [
      "Silhouette Score: 0.5509643746707433\n"
     ]
    }
   ],
   "source": [
    "score3 = silhouette_score(X, kmeans3.labels_)\n",
    "print(\"Silhouette Score:\", score3)\n",
    "silhouette_scores.append(score3)"
   ]
  },
  {
   "cell_type": "markdown",
   "id": "494d237b",
   "metadata": {},
   "source": [
    "#### Menghitung SSE"
   ]
  },
  {
   "cell_type": "code",
   "execution_count": 45,
   "id": "42b380cb",
   "metadata": {},
   "outputs": [
    {
     "name": "stdout",
     "output_type": "stream",
     "text": [
      "SSE (Inertia): 78.94506582597731\n"
     ]
    }
   ],
   "source": [
    "sse3 = kmeans3.inertia_\n",
    "print(\"SSE (Inertia):\", sse3)\n",
    "sse_scores.append(sse3)"
   ]
  },
  {
   "cell_type": "markdown",
   "id": "d8cf432d",
   "metadata": {},
   "source": [
    "### **Klastering K-Means dengan 4 Klaster**"
   ]
  },
  {
   "cell_type": "code",
   "execution_count": 46,
   "id": "677a4f39",
   "metadata": {},
   "outputs": [
    {
     "name": "stdout",
     "output_type": "stream",
     "text": [
      "Hasil label cluster: [1 1 1 1 1 1 1 1 1 1 1 1 1 1 1 1 1 1 1 1 1 1 1 1 1 1 1 1 1 1 1 1 1 1 1 1 1\n",
      " 1 1 1 1 1 1 1 1 1 1 1 1 1 3 3 3 0 3 0 3 0 3 0 0 0 0 3 0 3 0 0 3 0 3 0 3 3\n",
      " 3 3 3 3 3 0 0 0 0 3 0 3 3 3 0 0 0 3 0 0 0 0 0 3 0 0 2 3 2 2 2 2 0 2 2 2 3\n",
      " 3 2 3 3 2 2 2 2 3 2 3 2 3 2 2 3 3 2 2 2 2 2 3 3 2 2 2 3 2 2 2 3 2 2 2 3 3\n",
      " 2 3]\n"
     ]
    }
   ],
   "source": [
    "kmeans4 = KMeans(n_clusters=4, random_state=0, n_init=\"auto\", max_iter=250, tol=0.0002, verbose=0,copy_x=True,algorithm=\"lloyd\").fit(X)\n",
    "print(\"Hasil label cluster:\", kmeans4.labels_)"
   ]
  },
  {
   "cell_type": "markdown",
   "id": "4d3f2afb",
   "metadata": {},
   "source": [
    "#### Menghitung Silhouette"
   ]
  },
  {
   "cell_type": "code",
   "execution_count": 47,
   "id": "4b2964a9",
   "metadata": {},
   "outputs": [
    {
     "name": "stdout",
     "output_type": "stream",
     "text": [
      "Silhouette Score: 0.497825690109546\n"
     ]
    }
   ],
   "source": [
    "score4 = silhouette_score(X, kmeans4.labels_)\n",
    "print(\"Silhouette Score:\", score4)\n",
    "silhouette_scores.append(score4)"
   ]
  },
  {
   "cell_type": "markdown",
   "id": "f210e8c6",
   "metadata": {},
   "source": [
    "#### Menghitung SSE"
   ]
  },
  {
   "cell_type": "code",
   "execution_count": 48,
   "id": "df8f3dd9",
   "metadata": {},
   "outputs": [
    {
     "name": "stdout",
     "output_type": "stream",
     "text": [
      "SSE (Inertia): 57.317873214285704\n"
     ]
    }
   ],
   "source": [
    "sse4 = kmeans4.inertia_\n",
    "print(\"SSE (Inertia):\", sse4)\n",
    "sse_scores.append(sse4)"
   ]
  },
  {
   "cell_type": "markdown",
   "id": "21757d7a",
   "metadata": {},
   "source": [
    "#### **Elbow Method (Untuk memilih nilai K optimal)**"
   ]
  },
  {
   "cell_type": "code",
   "execution_count": 52,
   "id": "e32e9f17",
   "metadata": {},
   "outputs": [
    {
     "data": {
      "image/png": "[encoded data removed]",
      "text/plain": [
       "<Figure size 1200x500 with 2 Axes>"
      ]
     },
     "metadata": {},
     "output_type": "display_data"
    }
   ],
   "source": [
    "import matplotlib.pyplot as plt\n",
    "\n",
    "# 4. Visualisasi SSE dan Silhouette Score\n",
    "plt.figure(figsize=(12, 5))\n",
    "\n",
    "# Elbow Plot\n",
    "plt.subplot(1, 2, 1)\n",
    "plt.plot(range(2, 5), sse_scores, marker='o', color='orange')\n",
    "plt.title('Elbow Method (SSE)')\n",
    "plt.xlabel('Jumlah Klaster (K)')\n",
    "plt.ylabel('SSE (Inertia)')\n",
    "\n",
    "# Silhouette Score Plot\n",
    "plt.subplot(1, 2, 2)\n",
    "plt.plot(range(2, 5), silhouette_scores, marker='o', color='magenta')\n",
    "plt.title('Elbow Method (Silhouette Score)')\n",
    "plt.xlabel('Jumlah Klaster (K)')\n",
    "plt.ylabel('Silhouette Score')\n",
    "\n",
    "plt.tight_layout()\n",
    "plt.show()\n"
   ]
  },
  {
   "cell_type": "markdown",
   "id": "576cd066",
   "metadata": {},
   "source": [
    "## **Clustering**\n",
    "\n",
    "**-> dengan label class**"
   ]
  },
  {
   "cell_type": "code",
   "execution_count": 149,
   "id": "cbed97db",
   "metadata": {},
   "outputs": [],
   "source": [
    "import pandas as pd\n",
    "from sklearn.cluster import KMeans\n",
    "\n",
    "from sklearn.metrics import silhouette_score\n",
    "from sklearn.preprocessing import LabelEncoder"
   ]
  },
  {
   "cell_type": "code",
   "execution_count": 150,
   "id": "e5271bf7",
   "metadata": {},
   "outputs": [
    {
     "name": "stdout",
     "output_type": "stream",
     "text": [
      "[[0.  1.4 0.2 5.1 3.5]\n",
      " [0.  1.4 0.2 4.9 3. ]\n",
      " [0.  1.3 0.2 4.7 3.2]\n",
      " [0.  1.5 0.2 4.6 3.1]\n",
      " [0.  1.4 0.2 5.  3.6]\n",
      " [0.  1.7 0.4 5.4 3.9]\n",
      " [0.  1.4 0.3 4.6 3.4]\n",
      " [0.  1.5 0.2 5.  3.4]\n",
      " [0.  1.4 0.2 4.4 2.9]\n",
      " [0.  1.5 0.1 4.9 3.1]\n",
      " [0.  1.5 0.2 5.4 3.7]\n",
      " [0.  1.6 0.2 4.8 3.4]\n",
      " [0.  1.4 0.1 4.8 3. ]\n",
      " [0.  1.1 0.1 4.3 3. ]\n",
      " [0.  1.2 0.2 5.8 4. ]\n",
      " [0.  1.5 0.4 5.7 4.4]\n",
      " [0.  1.3 0.4 5.4 3.9]\n",
      " [0.  1.4 0.3 5.1 3.5]\n",
      " [0.  1.7 0.3 5.7 3.8]\n",
      " [0.  1.5 0.3 5.1 3.8]\n",
      " [0.  1.7 0.2 5.4 3.4]\n",
      " [0.  1.5 0.4 5.1 3.7]\n",
      " [0.  1.  0.2 4.6 3.6]\n",
      " [0.  1.7 0.5 5.1 3.3]\n",
      " [0.  1.9 0.2 4.8 3.4]\n",
      " [0.  1.6 0.2 5.  3. ]\n",
      " [0.  1.6 0.4 5.  3.4]\n",
      " [0.  1.5 0.2 5.2 3.5]\n",
      " [0.  1.4 0.2 5.2 3.4]\n",
      " [0.  1.6 0.2 4.7 3.2]\n",
      " [0.  1.6 0.2 4.8 3.1]\n",
      " [0.  1.5 0.4 5.4 3.4]\n",
      " [0.  1.5 0.1 5.2 4.1]\n",
      " [0.  1.4 0.2 5.5 4.2]\n",
      " [0.  1.5 0.1 4.9 3.1]\n",
      " [0.  1.2 0.2 5.  3.2]\n",
      " [0.  1.3 0.2 5.5 3.5]\n",
      " [0.  1.5 0.1 4.9 3.1]\n",
      " [0.  1.3 0.2 4.4 3. ]\n",
      " [0.  1.5 0.2 5.1 3.4]\n",
      " [0.  1.3 0.3 5.  3.5]\n",
      " [0.  1.3 0.3 4.5 2.3]\n",
      " [0.  1.3 0.2 4.4 3.2]\n",
      " [0.  1.6 0.6 5.  3.5]\n",
      " [0.  1.9 0.4 5.1 3.8]\n",
      " [0.  1.4 0.3 4.8 3. ]\n",
      " [0.  1.6 0.2 5.1 3.8]\n",
      " [0.  1.4 0.2 4.6 3.2]\n",
      " [0.  1.5 0.2 5.3 3.7]\n",
      " [0.  1.4 0.2 5.  3.3]\n",
      " [1.  4.7 1.4 7.  3.2]\n",
      " [1.  4.5 1.5 6.4 3.2]\n",
      " [1.  4.9 1.5 6.9 3.1]\n",
      " [1.  4.  1.3 5.5 2.3]\n",
      " [1.  4.6 1.5 6.5 2.8]\n",
      " [1.  4.5 1.3 5.7 2.8]\n",
      " [1.  4.7 1.6 6.3 3.3]\n",
      " [1.  3.3 1.  4.9 2.4]\n",
      " [1.  4.6 1.3 6.6 2.9]\n",
      " [1.  3.9 1.4 5.2 2.7]\n",
      " [1.  3.5 1.  5.  2. ]\n",
      " [1.  4.2 1.5 5.9 3. ]\n",
      " [1.  4.  1.  6.  2.2]\n",
      " [1.  4.7 1.4 6.1 2.9]\n",
      " [1.  3.6 1.3 5.6 2.9]\n",
      " [1.  4.4 1.4 6.7 3.1]\n",
      " [1.  4.5 1.5 5.6 3. ]\n",
      " [1.  4.1 1.  5.8 2.7]\n",
      " [1.  4.5 1.5 6.2 2.2]\n",
      " [1.  3.9 1.1 5.6 2.5]\n",
      " [1.  4.8 1.8 5.9 3.2]\n",
      " [1.  4.  1.3 6.1 2.8]\n",
      " [1.  4.9 1.5 6.3 2.5]\n",
      " [1.  4.7 1.2 6.1 2.8]\n",
      " [1.  4.3 1.3 6.4 2.9]\n",
      " [1.  4.4 1.4 6.6 3. ]\n",
      " [1.  4.8 1.4 6.8 2.8]\n",
      " [1.  5.  1.7 6.7 3. ]\n",
      " [1.  4.5 1.5 6.  2.9]\n",
      " [1.  3.5 1.  5.7 2.6]\n",
      " [1.  3.8 1.1 5.5 2.4]\n",
      " [1.  3.7 1.  5.5 2.4]\n",
      " [1.  3.9 1.2 5.8 2.7]\n",
      " [1.  5.1 1.6 6.  2.7]\n",
      " [1.  4.5 1.5 5.4 3. ]\n",
      " [1.  4.5 1.6 6.  3.4]\n",
      " [1.  4.7 1.5 6.7 3.1]\n",
      " [1.  4.4 1.3 6.3 2.3]\n",
      " [1.  4.1 1.3 5.6 3. ]\n",
      " [1.  4.  1.3 5.5 2.5]\n",
      " [1.  4.4 1.2 5.5 2.6]\n",
      " [1.  4.6 1.4 6.1 3. ]\n",
      " [1.  4.  1.2 5.8 2.6]\n",
      " [1.  3.3 1.  5.  2.3]\n",
      " [1.  4.2 1.3 5.6 2.7]\n",
      " [1.  4.2 1.2 5.7 3. ]\n",
      " [1.  4.2 1.3 5.7 2.9]\n",
      " [1.  4.3 1.3 6.2 2.9]\n",
      " [1.  3.  1.1 5.1 2.5]\n",
      " [1.  4.1 1.3 5.7 2.8]\n",
      " [2.  6.  2.5 6.3 3.3]\n",
      " [2.  5.1 1.9 5.8 2.7]\n",
      " [2.  5.9 2.1 7.1 3. ]\n",
      " [2.  5.6 1.8 6.3 2.9]\n",
      " [2.  5.8 2.2 6.5 3. ]\n",
      " [2.  6.6 2.1 7.6 3. ]\n",
      " [2.  4.5 1.7 4.9 2.5]\n",
      " [2.  6.3 1.8 7.3 2.9]\n",
      " [2.  5.8 1.8 6.7 2.5]\n",
      " [2.  6.1 2.5 7.2 3.6]\n",
      " [2.  5.1 2.  6.5 3.2]\n",
      " [2.  5.3 1.9 6.4 2.7]\n",
      " [2.  5.5 2.1 6.8 3. ]\n",
      " [2.  5.  2.  5.7 2.5]\n",
      " [2.  5.1 2.4 5.8 2.8]\n",
      " [2.  5.3 2.3 6.4 3.2]\n",
      " [2.  5.5 1.8 6.5 3. ]\n",
      " [2.  6.7 2.2 7.7 3.8]\n",
      " [2.  6.9 2.3 7.7 2.6]\n",
      " [2.  5.  1.5 6.  2.2]\n",
      " [2.  5.7 2.3 6.9 3.2]\n",
      " [2.  4.9 2.  5.6 2.8]\n",
      " [2.  6.7 2.  7.7 2.8]\n",
      " [2.  4.9 1.8 6.3 2.7]\n",
      " [2.  5.7 2.1 6.7 3.3]\n",
      " [2.  6.  1.8 7.2 3.2]\n",
      " [2.  4.8 1.8 6.2 2.8]\n",
      " [2.  4.9 1.8 6.1 3. ]\n",
      " [2.  5.6 2.1 6.4 2.8]\n",
      " [2.  5.8 1.6 7.2 3. ]\n",
      " [2.  6.1 1.9 7.4 2.8]\n",
      " [2.  6.4 2.  7.9 3.8]\n",
      " [2.  5.6 2.2 6.4 2.8]\n",
      " [2.  5.1 1.5 6.3 2.8]\n",
      " [2.  5.6 1.4 6.1 2.6]\n",
      " [2.  6.1 2.3 7.7 3. ]\n",
      " [2.  5.6 2.4 6.3 3.4]\n",
      " [2.  5.5 1.8 6.4 3.1]\n",
      " [2.  4.8 1.8 6.  3. ]\n",
      " [2.  5.4 2.1 6.9 3.1]\n",
      " [2.  5.6 2.4 6.7 3.1]\n",
      " [2.  5.1 2.3 6.9 3.1]\n",
      " [2.  5.1 1.9 5.8 2.7]\n",
      " [2.  5.9 2.3 6.8 3.2]\n",
      " [2.  5.7 2.5 6.7 3.3]\n",
      " [2.  5.2 2.3 6.7 3. ]\n",
      " [2.  5.  1.9 6.3 2.5]\n",
      " [2.  5.2 2.  6.5 3. ]\n",
      " [2.  5.4 2.3 6.2 3.4]\n",
      " [2.  5.1 1.8 5.9 3. ]]\n"
     ]
    }
   ],
   "source": [
    "# Membaca file CSV\n",
    "df = pd.read_csv(\"hasil_gabungan.csv\")\n",
    "\n",
    "silhouette_scores2 = []\n",
    "sse_scores2 = []\n",
    "label_encoder = LabelEncoder()\n",
    "df['class'] = label_encoder.fit_transform(df['class'])\n",
    "X = df.drop(columns=[\"id\"]).values\n",
    "print(X)  # Menampilkan 5 baris pertama dari DataFrame"
   ]
  },
  {
   "cell_type": "markdown",
   "id": "a9b08951",
   "metadata": {},
   "source": [
    "### **Klastering K-Means dengan 2 Klaster**\n",
    "\n",
    "#### Pengelompokan 2 cluster (termasuk cluster 0 & 1)"
   ]
  },
  {
   "cell_type": "code",
   "execution_count": 151,
   "id": "86c9a9a4",
   "metadata": {},
   "outputs": [
    {
     "name": "stdout",
     "output_type": "stream",
     "text": [
      "Centroid cluster: [[0.03846154 1.52884615 0.275      5.00576923 3.38076923]\n",
      " [1.51020408 4.94183673 1.68877551 6.2877551  2.88061224]]\n",
      "Hasil label cluster: [0 0 0 0 0 0 0 0 0 0 0 0 0 0 0 0 0 0 0 0 0 0 0 0 0 0 0 0 0 0 0 0 0 0 0 0 0\n",
      " 0 0 0 0 0 0 0 0 0 0 0 0 0 1 1 1 1 1 1 1 0 1 1 1 1 1 1 1 1 1 1 1 1 1 1 1 1\n",
      " 1 1 1 1 1 1 1 1 1 1 1 1 1 1 1 1 1 1 1 1 1 1 1 1 0 1 1 1 1 1 1 1 1 1 1 1 1\n",
      " 1 1 1 1 1 1 1 1 1 1 1 1 1 1 1 1 1 1 1 1 1 1 1 1 1 1 1 1 1 1 1 1 1 1 1 1 1\n",
      " 1 1]\n"
     ]
    }
   ],
   "source": [
    "kmeans2 = KMeans(n_clusters=2, random_state=0, n_init=\"auto\", max_iter=250, tol=0.0002, verbose=0,copy_x=True,algorithm=\"lloyd\").fit(X)\n",
    "print(\"Centroid cluster:\", kmeans2.cluster_centers_) #Menampilkan 2 centroid\n",
    "print(\"Hasil label cluster:\", kmeans2.labels_)"
   ]
  },
  {
   "cell_type": "markdown",
   "id": "b3f06c90",
   "metadata": {},
   "source": [
    "#### Menghitung Silhouette"
   ]
  },
  {
   "cell_type": "code",
   "execution_count": 152,
   "id": "6fe1c4b0",
   "metadata": {},
   "outputs": [
    {
     "name": "stdout",
     "output_type": "stream",
     "text": [
      "Silhouette Score: 0.6761002460735732\n"
     ]
    }
   ],
   "source": [
    "score2 = silhouette_score(X, kmeans2.labels_)\n",
    "print(\"Silhouette Score:\", score2)\n",
    "silhouette_scores2.append(score2)"
   ]
  },
  {
   "cell_type": "markdown",
   "id": "21bdf0b3",
   "metadata": {},
   "source": [
    "#### Menghitung SSE"
   ]
  },
  {
   "cell_type": "code",
   "execution_count": 153,
   "id": "3f99f023",
   "metadata": {},
   "outputs": [
    {
     "name": "stdout",
     "output_type": "stream",
     "text": [
      "SSE (Inertia): 179.26073390894823\n"
     ]
    }
   ],
   "source": [
    "sse2 = kmeans2.inertia_\n",
    "print(\"SSE (Inertia):\", sse2)\n",
    "sse_scores2.append(sse2)"
   ]
  },
  {
   "cell_type": "markdown",
   "id": "e38bc948",
   "metadata": {},
   "source": [
    "### **Klastering K-Means dengan 3 Klaster**"
   ]
  },
  {
   "cell_type": "code",
   "execution_count": 154,
   "id": "46f3affd",
   "metadata": {},
   "outputs": [
    {
     "name": "stdout",
     "output_type": "stream",
     "text": [
      "Centroid cluster: [[1.02  4.25  1.326 5.9   2.76 ]\n",
      " [0.    1.464 0.244 5.006 3.418]\n",
      " [1.98  5.562 2.026 6.624 2.984]]\n",
      "Hasil label cluster: [1 1 1 1 1 1 1 1 1 1 1 1 1 1 1 1 1 1 1 1 1 1 1 1 1 1 1 1 1 1 1 1 1 1 1 1 1\n",
      " 1 1 1 1 1 1 1 1 1 1 1 1 1 0 0 0 0 0 0 0 0 0 0 0 0 0 0 0 0 0 0 0 0 0 0 0 0\n",
      " 0 0 0 2 0 0 0 0 0 0 0 0 0 0 0 0 0 0 0 0 0 0 0 0 0 0 2 2 2 2 2 2 0 2 2 2 2\n",
      " 2 2 2 2 2 2 2 2 2 2 2 2 2 2 2 2 2 2 2 2 2 2 2 2 2 2 2 2 2 2 2 2 2 2 2 2 2\n",
      " 2 2]\n"
     ]
    }
   ],
   "source": [
    "kmeans3 = KMeans(n_clusters=3, random_state=0, n_init=\"auto\", max_iter=250, tol=0.0002, verbose=0,copy_x=True,algorithm=\"lloyd\").fit(X)\n",
    "print(\"Centroid cluster:\", kmeans3.cluster_centers_)\n",
    "print(\"Hasil label cluster:\", kmeans3.labels_)"
   ]
  },
  {
   "cell_type": "markdown",
   "id": "f46e0244",
   "metadata": {},
   "source": [
    "#### Menghitung Silhouette"
   ]
  },
  {
   "cell_type": "code",
   "execution_count": 155,
   "id": "dc6659b1",
   "metadata": {},
   "outputs": [
    {
     "name": "stdout",
     "output_type": "stream",
     "text": [
      "Silhouette Score: 0.5789940783292142\n"
     ]
    }
   ],
   "source": [
    "score3 = silhouette_score(X, kmeans3.labels_)\n",
    "print(\"Silhouette Score:\", score3)\n",
    "silhouette_scores2.append(score3)"
   ]
  },
  {
   "cell_type": "markdown",
   "id": "6d75a8b6",
   "metadata": {},
   "source": [
    "#### Menghitung SSE"
   ]
  },
  {
   "cell_type": "code",
   "execution_count": 156,
   "id": "03129059",
   "metadata": {},
   "outputs": [
    {
     "name": "stdout",
     "output_type": "stream",
     "text": [
      "SSE (Inertia): 87.35400000000001\n"
     ]
    }
   ],
   "source": [
    "sse3 = kmeans3.inertia_\n",
    "print(\"SSE (Inertia):\", sse3)\n",
    "sse_scores2.append(sse3)"
   ]
  },
  {
   "cell_type": "markdown",
   "id": "90cba2ba",
   "metadata": {},
   "source": [
    "### **Klastering K-Means dengan 4 Klaster**"
   ]
  },
  {
   "cell_type": "code",
   "execution_count": 157,
   "id": "11f6bcda",
   "metadata": {},
   "outputs": [
    {
     "name": "stdout",
     "output_type": "stream",
     "text": [
      "Hasil label cluster: [1 1 1 1 1 1 1 1 1 1 1 1 1 1 1 1 1 1 1 1 1 1 1 1 1 1 1 1 1 1 1 1 1 1 1 1 1\n",
      " 1 1 1 1 1 1 1 1 1 1 1 1 1 0 0 0 0 0 0 0 0 0 0 0 0 0 0 0 0 0 0 0 0 0 0 0 0\n",
      " 0 0 0 2 0 0 0 0 0 0 0 0 0 0 0 0 0 0 0 0 0 0 0 0 0 0 2 2 3 2 2 3 0 3 2 3 2\n",
      " 2 2 2 2 2 2 3 3 2 2 2 3 2 2 3 2 2 2 3 3 3 2 2 2 3 2 2 2 2 2 2 2 2 2 2 2 2\n",
      " 2 2]\n"
     ]
    }
   ],
   "source": [
    "kmeans4 = KMeans(n_clusters=4, random_state=0, n_init=\"auto\", max_iter=250, tol=0.0002, verbose=0,copy_x=True,algorithm=\"lloyd\").fit(X)\n",
    "print(\"Hasil label cluster:\", kmeans4.labels_)"
   ]
  },
  {
   "cell_type": "markdown",
   "id": "e906aba6",
   "metadata": {},
   "source": [
    "#### Menghitung Silhouette"
   ]
  },
  {
   "cell_type": "code",
   "execution_count": 158,
   "id": "c428cbb6",
   "metadata": {},
   "outputs": [
    {
     "name": "stdout",
     "output_type": "stream",
     "text": [
      "Silhouette Score: 0.547604015010703\n"
     ]
    }
   ],
   "source": [
    "score4 = silhouette_score(X, kmeans4.labels_)\n",
    "print(\"Silhouette Score:\", score4)\n",
    "silhouette_scores2.append(score4)"
   ]
  },
  {
   "cell_type": "markdown",
   "id": "afbfc374",
   "metadata": {},
   "source": [
    "#### Menghitung SSE"
   ]
  },
  {
   "cell_type": "code",
   "execution_count": 159,
   "id": "97f4656b",
   "metadata": {},
   "outputs": [
    {
     "name": "stdout",
     "output_type": "stream",
     "text": [
      "SSE (Inertia): 66.99028421052631\n"
     ]
    }
   ],
   "source": [
    "sse4 = kmeans4.inertia_\n",
    "print(\"SSE (Inertia):\", sse4)\n",
    "sse_scores2.append(sse4)"
   ]
  },
  {
   "cell_type": "markdown",
   "id": "409125fc",
   "metadata": {},
   "source": [
    "#### **Elbow Method (Untuk memilih nilai K optimal)**"
   ]
  },
  {
   "cell_type": "code",
   "execution_count": 162,
   "id": "58ea040c",
   "metadata": {},
   "outputs": [
    {
     "data": {
      "image/png": "[encoded data removed]",
      "text/plain": [
       "<Figure size 1200x500 with 2 Axes>"
      ]
     },
     "metadata": {},
     "output_type": "display_data"
    }
   ],
   "source": [
    "import matplotlib.pyplot as plt\n",
    "\n",
    "# 4. Visualisasi SSE dan Silhouette Score\n",
    "plt.figure(figsize=(12, 5))\n",
    "\n",
    "# Elbow Plot\n",
    "plt.subplot(1, 2, 1)\n",
    "plt.plot(range(2, 5), sse_scores2, marker='o', color='orange')\n",
    "plt.title('Elbow Method (SSE)')\n",
    "plt.xlabel('Jumlah Klaster (K)')\n",
    "plt.ylabel('SSE (Inertia)')\n",
    "\n",
    "# Silhouette Score Plot\n",
    "plt.subplot(1, 2, 2)\n",
    "plt.plot(range(2, 5), silhouette_scores2, marker='o', color='magenta')\n",
    "plt.title('Elbow Method (Silhouette Score2)')\n",
    "plt.xlabel('Jumlah Klaster (K)')\n",
    "plt.ylabel('Silhouette Score2')\n",
    "\n",
    "plt.tight_layout()\n",
    "plt.show()\n"
   ]
  }
 ],
 "metadata": {
  "kernelspec": {
   "display_name": "Python 3",
   "language": "python",
   "name": "python3"
  },
  "language_info": {
   "codemirror_mode": {
    "name": "ipython",
    "version": 3
   },
   "file_extension": ".py",
   "mimetype": "text/x-python",
   "name": "python",
   "nbconvert_exporter": "python",
   "pygments_lexer": "ipython3",
   "version": "3.11.5"
  }
 },
 "nbformat": 4,
 "nbformat_minor": 5
}
