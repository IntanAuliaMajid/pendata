{
 "cells": [
  {
   "cell_type": "markdown",
   "metadata": {},
   "source": [
    "# **Naive Bayes Classifier**\n",
    "Naïve Bayes adalah algoritma klasifikasi berbasis teorema Bayes, yang berasumsi bahwa setiap fitur dalam dataset saling independen satu sama lain  \n",
    "\n",
    "## **1. Teori Dasar Naïve Bayes**\n",
    "Naïve Bayes bekerja dengan menghitung probabilitas suatu kelas berdasarkan data yang ada, menggunakan Teorema Bayes :\n",
    "\n",
    "$$\n",
    "P(A | B) = \\frac{P(B | A) \\cdot P(A)}{P(B)}\n",
    "$$\n",
    "\n",
    "Di mana:\n",
    "- $ P(A | B) $ = Probabilitas hipotesis $ A $ benar jika diberikan bukti $ B $.\n",
    "- $ P(B | A) $ = Probabilitas mendapatkan bukti $ B $ jika hipotesis $ A $ benar.\n",
    "- $ P(A) $ = Probabilitas awal hipotesis $ A $ (prior).\n",
    "- $ P(B) $ = Probabilitas bukti $ B $ terjadi.\n",
    "\n",
    "## **2. Prinsip \"Naive\" (Independensi Fitur)**\n",
    "Naive Bayes mengasumsikan bahwa setiap fitur dalam dataset **tidak saling bergantung**, sehingga probabilitas gabungan fitur dapat dihitung sebagai:\n",
    "\n",
    "$$\n",
    "P(A | X_1, X_2, ..., X_n) = \\frac{P(X_1, X_2, ..., X_n | A) \\cdot P(A)}{P(X_1, X_2, ..., X_n)}\n",
    "$$\n",
    "\n",
    "Karena diasumsikan fitur **independen**, maka :\n",
    "\n",
    "$$\n",
    "P(X_1, X_2, ..., X_n | A) = P(X_1 | A) \\cdot P(X_2 | A) \\cdot ... \\cdot P(X_n | A)\n",
    "$$\n",
    "\n",
    "Sehingga :\n",
    "\n",
    "$$\n",
    "P(A | X_1, X_2, ..., X_n) = \\frac{P(A) \\cdot \\prod_{i=1}^{n} P(X_i | A)}{P(X_1, X_2, ..., X_n)}\n",
    "$$\n",
    "\n",
    "## **3. Jenis Naive Bayes**\n",
    "### **a) Gaussian Naive Bayes** (Untuk Data Numerik)\n",
    "Jika fitur $ X $ mengikuti **distribusi normal (Gaussian)**, maka probabilitas dihitung dengan :\n",
    "\n",
    "$$\n",
    "P(x | C) = \\frac{1}{\\sqrt{2\\pi\\sigma^2}} e^{\\frac{-(x-\\mu)^2}{2\\sigma^2}}\n",
    "$$\n",
    "\n",
    "Di mana :\n",
    "- $ \\mu $ = Rata-rata fitur dalam kelas tertentu\n",
    "- $ \\sigma $ = Standar deviasi fitur dalam kelas tertentu\n",
    "- $ x $ = Nilai fitur\n",
    "\n",
    "### **b) Multinomial Naive Bayes** (Untuk Data Kategori)\n",
    "Digunakan untuk **klasifikasi teks** berdasarkan frekuensi kata :\n",
    "\n",
    "$$\n",
    "P(X | C) = \\frac{(N_{c, X} + \\alpha)}{(N_c + \\alpha \\cdot d)}\n",
    "$$\n",
    "\n",
    "Di mana :\n",
    "- $ N_{c, X} $ = Jumlah kata $ X $ dalam kelas $ C $\n",
    "- $ N_c $ = Total jumlah kata dalam kelas $ C $\n",
    "- $ d $ = Jumlah total kata unik dalam semua kelas\n",
    "- $ \\alpha $ = Parameter smoothing (Laplace Smoothing)\n",
    "\n",
    "### **c) Bernoulli Naive Bayes** (Untuk Data Biner)\n",
    "Digunakan jika fitur hanya memiliki dua kemungkinan (ada/tidak ada) :\n",
    "\n",
    "$$\n",
    "P(X | C) = P(X_1 | C)^{x_1} \\cdot P(X_2 | C)^{x_2} \\cdot ... \\cdot P(X_n | C)^{x_n} \\cdot (1 - P(X_1 | C))^{(1 - x_1)}\n",
    "$$\n",
    "\n",
    "## **4. Kelebihan dan kekurangan :**\n",
    "### **Kelebihan :**\n",
    "- Sederhana dan mudah diimplementasikan.\n",
    "- Cepat dan efisien untuk dataset besar.\n",
    "- Cocok untuk data dengan banyak fitur.\n",
    "\n",
    "### **Kekurangan :**\n",
    "- Asumsi independensi fitur seringkali tidak realistis.\n",
    "- Performa menurun jika fitur saling bergantung.\n",
    "- Memerlukan penanganan khusus untuk data dengan probabilitas nol.\n",
    "\n",
    "## **5. Contoh penggunaan Naive Bayes :**\n",
    "1. Deteksi Email Spam → Mengklasifikasikan email sebagai spam atau tidak.\n",
    "2. Analisis Sentimen → Menganalisis ulasan positif atau negatif.\n",
    "3. Klasifikasi Penyakit → Menentukan kemungkinan penyakit berdasarkan gejala.\n",
    "4. Sistem Rekomendasi Film → Menentukan preferensi pengguna berdasarkan riwayat."
   ]
  },
  {
   "cell_type": "markdown",
   "metadata": {},
   "source": [
    "# **Implementasi Naive Bayes untuk klasifikasi data**\n",
    "## Implementasi pada data yang ada outliernya\n",
    "**Import library**"
   ]
  },
  {
   "cell_type": "code",
   "execution_count": 1,
   "metadata": {},
   "outputs": [
    {
     "name": "stdout",
     "output_type": "stream",
     "text": [
      "Requirement already satisfied: scikit-learn in /home/codespace/.local/lib/python3.12/site-packages (1.6.1)\r\n",
      "Requirement already satisfied: numpy>=1.19.5 in /home/codespace/.local/lib/python3.12/site-packages (from scikit-learn) (2.2.4)\r\n",
      "Requirement already satisfied: scipy>=1.6.0 in /home/codespace/.local/lib/python3.12/site-packages (from scikit-learn) (1.15.2)\r\n",
      "Requirement already satisfied: joblib>=1.2.0 in /home/codespace/.local/lib/python3.12/site-packages (from scikit-learn) (1.4.2)\r\n",
      "Requirement already satisfied: threadpoolctl>=3.1.0 in /home/codespace/.local/lib/python3.12/site-packages (from scikit-learn) (3.6.0)\r\n"
     ]
    },
    {
     "name": "stdout",
     "output_type": "stream",
     "text": [
      "\r\n",
      "\u001b[1m[\u001b[0m\u001b[34;49mnotice\u001b[0m\u001b[1;39;49m]\u001b[0m\u001b[39;49m A new release of pip is available: \u001b[0m\u001b[31;49m25.0.1\u001b[0m\u001b[39;49m -> \u001b[0m\u001b[32;49m25.1.1\u001b[0m\r\n",
      "\u001b[1m[\u001b[0m\u001b[34;49mnotice\u001b[0m\u001b[1;39;49m]\u001b[0m\u001b[39;49m To update, run: \u001b[0m\u001b[32;49mpython3 -m pip install --upgrade pip\u001b[0m\r\n"
     ]
    },
    {
     "name": "stdout",
     "output_type": "stream",
     "text": [
      "Note: you may need to restart the kernel to use updated packages.\n"
     ]
    }
   ],
   "source": [
    "%pip install scikit-learn"
   ]
  },
  {
   "cell_type": "code",
   "execution_count": 2,
   "metadata": {},
   "outputs": [
    {
     "name": "stdout",
     "output_type": "stream",
     "text": [
      "Akurasi: 0.8666666666666667\n"
     ]
    }
   ],
   "source": [
    "import pandas as pd\n",
    "from sklearn.naive_bayes import GaussianNB\n",
    "from sklearn.model_selection import train_test_split\n",
    "from sklearn.metrics import accuracy_score\n",
    "\n",
    "# Membaca file CSV\n",
    "file_path = \"hasil_gabungan.csv\"\n",
    "df = pd.read_csv(file_path)\n",
    "\n",
    "# Memilih fitur dan label\n",
    "X = df[['petal_length', 'petal_width', 'sepal_length', 'sepal_width']]\n",
    "y = df['class']\n",
    "\n",
    "# Membagi data menjadi data latih dan data uji\n",
    "X_train, X_test, y_train, y_test = train_test_split(X, y, test_size=0.2, random_state=42)\n",
    "\n",
    "# Inisialisasi model Naïve Bayes\n",
    "model = GaussianNB()\n",
    "\n",
    "# Melatih model\n",
    "model.fit(X_train, y_train)\n",
    "\n",
    "# Melakukan prediksi\n",
    "y_pred = model.predict(X_test)\n",
    "\n",
    "# Mengukur akurasi model\n",
    "accuracy = accuracy_score(y_test, y_pred)\n",
    "print(\"Akurasi:\", accuracy)"
   ]
  },
  {
   "cell_type": "markdown",
   "metadata": {},
   "source": [
    "## Implementasi pada data yang sudah dihapus outliernya"
   ]
  },
  {
   "cell_type": "code",
   "execution_count": 3,
   "metadata": {},
   "outputs": [
    {
     "name": "stdout",
     "output_type": "stream",
     "text": [
      "Akurasi: 1.0\n"
     ]
    }
   ],
   "source": [
    "import pandas as pd\n",
    "from sklearn.naive_bayes import GaussianNB\n",
    "from sklearn.model_selection import train_test_split\n",
    "from sklearn.metrics import accuracy_score\n",
    "\n",
    "# Membaca file CSV\n",
    "file_path = \"cleaned_data.csv\"\n",
    "df = pd.read_csv(file_path)\n",
    "\n",
    "# Memilih fitur dan label\n",
    "X = df[['petal_length', 'petal_width', 'sepal_length', 'sepal_width']]\n",
    "y = df['class']\n",
    "\n",
    "# Membagi data menjadi data latih dan data uji\n",
    "X_train, X_test, y_train, y_test = train_test_split(X, y, test_size=0.2, random_state=42)\n",
    "\n",
    "# Inisialisasi model Naïve Bayes\n",
    "model = GaussianNB()\n",
    "\n",
    "# Melatih model\n",
    "model.fit(X_train, y_train)\n",
    "\n",
    "# Melakukan prediksi\n",
    "y_pred = model.predict(X_test)\n",
    "\n",
    "# Mengukur akurasi model\n",
    "accuracy = accuracy_score(y_test, y_pred)\n",
    "print(\"Akurasi:\", accuracy)"
   ]
  }
 ],
 "metadata": {
  "kernelspec": {
   "display_name": "Python 3",
   "language": "python",
   "name": "python3"
  },
  "language_info": {
   "codemirror_mode": {
    "name": "ipython",
    "version": 3
   },
   "file_extension": ".py",
   "mimetype": "text/x-python",
   "name": "python",
   "nbconvert_exporter": "python",
   "pygments_lexer": "ipython3",
   "version": "3.12.1"
  }
 },
 "nbformat": 4,
 "nbformat_minor": 2
}