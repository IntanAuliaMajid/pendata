{
 "cells": [
  {
   "cell_type": "markdown",
   "id": "1bcfef9e",
   "metadata": {},
   "source": [
    "## Tahap Analisa\n",
    "\n",
    "Penanganan Nilai Hilang (Missing Values)\n",
    "Beberapa kolom dalam dataset mengandung nilai kosong (NaN). Langkah yang dilakukan:\n",
    "\n",
    "Kolom numerik seperti Cholesterol, Copper, Alk_Phos, dll diisi dengan nilai median dari kolom tersebut.\n",
    "\n",
    "Kolom kategorikal seperti Ascites, Spiders, Edema diisi dengan modus (nilai terbanyak)."
   ]
  }
 ],
 "metadata": {
  "language_info": {
   "name": "python"
  }
 },
 "nbformat": 4,
 "nbformat_minor": 5
}
